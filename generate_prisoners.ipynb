{
 "cells": [
  {
   "cell_type": "markdown",
   "metadata": {},
   "source": []
  },
  {
   "cell_type": "code",
   "execution_count": 3,
   "metadata": {},
   "outputs": [],
   "source": [
    "import polars as pl\n",
    "import numpy as np\n",
    "from faker import Faker"
   ]
  },
  {
   "cell_type": "code",
   "execution_count": 27,
   "metadata": {},
   "outputs": [],
   "source": [
    "fake = Faker()\n",
    "prisoners = []\n",
    "for i in range(100):\n",
    "    prisoner = {}\n",
    "    prisoner['name'] =fake.first_name()\n",
    "    prisoner['id']= int(fake.ssn().replace('-',''))\n",
    "    prisoner['morality']=.5\n",
    "    prisoner['rounds'] = 0\n",
    "    prisoner['trials'] = 0\n",
    "    previous_outcomes = []\n",
    "    prisoners.append(prisoner)"
   ]
  },
  {
   "cell_type": "code",
   "execution_count": 28,
   "metadata": {},
   "outputs": [
    {
     "data": {
      "text/html": [
       "<div><style>\n",
       ".dataframe > thead > tr,\n",
       ".dataframe > tbody > tr {\n",
       "  text-align: right;\n",
       "  white-space: pre-wrap;\n",
       "}\n",
       "</style>\n",
       "<small>shape: (1, 5)</small><table border=\"1\" class=\"dataframe\"><thead><tr><th>name</th><th>id</th><th>morality</th><th>rounds</th><th>trials</th></tr><tr><td>str</td><td>i64</td><td>f64</td><td>i64</td><td>i64</td></tr></thead><tbody><tr><td>&quot;Brandon&quot;</td><td>547602934</td><td>0.5</td><td>0</td><td>0</td></tr></tbody></table></div>"
      ],
      "text/plain": [
       "shape: (1, 5)\n",
       "┌─────────┬───────────┬──────────┬────────┬────────┐\n",
       "│ name    ┆ id        ┆ morality ┆ rounds ┆ trials │\n",
       "│ ---     ┆ ---       ┆ ---      ┆ ---    ┆ ---    │\n",
       "│ str     ┆ i64       ┆ f64      ┆ i64    ┆ i64    │\n",
       "╞═════════╪═══════════╪══════════╪════════╪════════╡\n",
       "│ Brandon ┆ 547602934 ┆ 0.5      ┆ 0      ┆ 0      │\n",
       "└─────────┴───────────┴──────────┴────────┴────────┘"
      ]
     },
     "execution_count": 28,
     "metadata": {},
     "output_type": "execute_result"
    }
   ],
   "source": [
    "df = pl.DataFrame(prisoners)\n",
    "df.sample(1)"
   ]
  },
  {
   "cell_type": "code",
   "execution_count": 29,
   "metadata": {},
   "outputs": [],
   "source": [
    "df.to_pandas().to_json('prisoners.json', orient='records')"
   ]
  }
 ],
 "metadata": {
  "kernelspec": {
   "display_name": ".venv",
   "language": "python",
   "name": "python3"
  },
  "language_info": {
   "codemirror_mode": {
    "name": "ipython",
    "version": 3
   },
   "file_extension": ".py",
   "mimetype": "text/x-python",
   "name": "python",
   "nbconvert_exporter": "python",
   "pygments_lexer": "ipython3",
   "version": "3.10.4"
  }
 },
 "nbformat": 4,
 "nbformat_minor": 2
}
