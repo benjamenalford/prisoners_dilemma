{
 "cells": [
  {
   "cell_type": "code",
   "execution_count": 12,
   "metadata": {},
   "outputs": [],
   "source": [
    "import pandas as pd\n",
    "import os\n",
    "from constants import *"
   ]
  },
  {
   "cell_type": "code",
   "execution_count": 13,
   "metadata": {},
   "outputs": [
    {
     "name": "stdout",
     "output_type": "stream",
     "text": [
      "/home/benjamenalford/projects/prisoners\n"
     ]
    }
   ],
   "source": [
    "# set current working directory to the current directory the program is running in\n",
    "current_dir = os.getcwd()\n",
    "print(current_dir)"
   ]
  },
  {
   "cell_type": "code",
   "execution_count": 14,
   "metadata": {},
   "outputs": [
    {
     "data": {
      "text/html": [
       "<div>\n",
       "<style scoped>\n",
       "    .dataframe tbody tr th:only-of-type {\n",
       "        vertical-align: middle;\n",
       "    }\n",
       "\n",
       "    .dataframe tbody tr th {\n",
       "        vertical-align: top;\n",
       "    }\n",
       "\n",
       "    .dataframe thead th {\n",
       "        text-align: right;\n",
       "    }\n",
       "</style>\n",
       "<table border=\"1\" class=\"dataframe\">\n",
       "  <thead>\n",
       "    <tr style=\"text-align: right;\">\n",
       "      <th></th>\n",
       "      <th>trial_id</th>\n",
       "      <th>trail_id</th>\n",
       "      <th>trial_outcome</th>\n",
       "      <th>prisoners</th>\n",
       "      <th>trial_outcome_label</th>\n",
       "    </tr>\n",
       "  </thead>\n",
       "  <tbody>\n",
       "    <tr>\n",
       "      <th>0</th>\n",
       "      <td>0</td>\n",
       "      <td>1</td>\n",
       "      <td>2</td>\n",
       "      <td>[{'prisoner_id': 0, 'sentence': 0, 'choice': 0...</td>\n",
       "      <td>B Rat A</td>\n",
       "    </tr>\n",
       "    <tr>\n",
       "      <th>1</th>\n",
       "      <td>1</td>\n",
       "      <td>1</td>\n",
       "      <td>0</td>\n",
       "      <td>[{'prisoner_id': 0, 'sentence': 1, 'choice': 0...</td>\n",
       "      <td>Silence</td>\n",
       "    </tr>\n",
       "    <tr>\n",
       "      <th>2</th>\n",
       "      <td>2</td>\n",
       "      <td>1</td>\n",
       "      <td>2</td>\n",
       "      <td>[{'prisoner_id': 0, 'sentence': 0, 'choice': 0...</td>\n",
       "      <td>B Rat A</td>\n",
       "    </tr>\n",
       "    <tr>\n",
       "      <th>3</th>\n",
       "      <td>3</td>\n",
       "      <td>1</td>\n",
       "      <td>0</td>\n",
       "      <td>[{'prisoner_id': 0, 'sentence': 1, 'choice': 0...</td>\n",
       "      <td>Silence</td>\n",
       "    </tr>\n",
       "    <tr>\n",
       "      <th>4</th>\n",
       "      <td>4</td>\n",
       "      <td>1</td>\n",
       "      <td>1</td>\n",
       "      <td>[{'prisoner_id': 0, 'sentence': 0, 'choice': 1...</td>\n",
       "      <td>A Rat B</td>\n",
       "    </tr>\n",
       "    <tr>\n",
       "      <th>5</th>\n",
       "      <td>5</td>\n",
       "      <td>1</td>\n",
       "      <td>3</td>\n",
       "      <td>[{'prisoner_id': 0, 'sentence': 2, 'choice': 1...</td>\n",
       "      <td>Both Against</td>\n",
       "    </tr>\n",
       "    <tr>\n",
       "      <th>6</th>\n",
       "      <td>6</td>\n",
       "      <td>1</td>\n",
       "      <td>3</td>\n",
       "      <td>[{'prisoner_id': 0, 'sentence': 2, 'choice': 1...</td>\n",
       "      <td>Both Against</td>\n",
       "    </tr>\n",
       "    <tr>\n",
       "      <th>7</th>\n",
       "      <td>7</td>\n",
       "      <td>1</td>\n",
       "      <td>0</td>\n",
       "      <td>[{'prisoner_id': 0, 'sentence': 1, 'choice': 0...</td>\n",
       "      <td>Silence</td>\n",
       "    </tr>\n",
       "    <tr>\n",
       "      <th>8</th>\n",
       "      <td>8</td>\n",
       "      <td>1</td>\n",
       "      <td>1</td>\n",
       "      <td>[{'prisoner_id': 0, 'sentence': 0, 'choice': 1...</td>\n",
       "      <td>A Rat B</td>\n",
       "    </tr>\n",
       "    <tr>\n",
       "      <th>9</th>\n",
       "      <td>9</td>\n",
       "      <td>1</td>\n",
       "      <td>3</td>\n",
       "      <td>[{'prisoner_id': 0, 'sentence': 2, 'choice': 1...</td>\n",
       "      <td>Both Against</td>\n",
       "    </tr>\n",
       "  </tbody>\n",
       "</table>\n",
       "</div>"
      ],
      "text/plain": [
       "   trial_id  trail_id  trial_outcome  \\\n",
       "0         0         1              2   \n",
       "1         1         1              0   \n",
       "2         2         1              2   \n",
       "3         3         1              0   \n",
       "4         4         1              1   \n",
       "5         5         1              3   \n",
       "6         6         1              3   \n",
       "7         7         1              0   \n",
       "8         8         1              1   \n",
       "9         9         1              3   \n",
       "\n",
       "                                           prisoners trial_outcome_label  \n",
       "0  [{'prisoner_id': 0, 'sentence': 0, 'choice': 0...             B Rat A  \n",
       "1  [{'prisoner_id': 0, 'sentence': 1, 'choice': 0...             Silence  \n",
       "2  [{'prisoner_id': 0, 'sentence': 0, 'choice': 0...             B Rat A  \n",
       "3  [{'prisoner_id': 0, 'sentence': 1, 'choice': 0...             Silence  \n",
       "4  [{'prisoner_id': 0, 'sentence': 0, 'choice': 1...             A Rat B  \n",
       "5  [{'prisoner_id': 0, 'sentence': 2, 'choice': 1...        Both Against  \n",
       "6  [{'prisoner_id': 0, 'sentence': 2, 'choice': 1...        Both Against  \n",
       "7  [{'prisoner_id': 0, 'sentence': 1, 'choice': 0...             Silence  \n",
       "8  [{'prisoner_id': 0, 'sentence': 0, 'choice': 1...             A Rat B  \n",
       "9  [{'prisoner_id': 0, 'sentence': 2, 'choice': 1...        Both Against  "
      ]
     },
     "execution_count": 14,
     "metadata": {},
     "output_type": "execute_result"
    }
   ],
   "source": [
    "df = pd.read_csv('trial_data.csv')\n",
    "df['trial_outcome_label']=df['trial_outcome'].replace(OUTCOME_MAP)\n",
    "df"
   ]
  },
  {
   "cell_type": "code",
   "execution_count": null,
   "metadata": {},
   "outputs": [],
   "source": [
    "dfg = df.groupby(['trial_outcome_label']).count()\n",
    "dfg.plot(kind='pie', y='trial_id' )"
   ]
  }
 ],
 "metadata": {
  "kernelspec": {
   "display_name": "Python 3 (ipykernel)",
   "language": "python",
   "name": "python3"
  },
  "language_info": {
   "codemirror_mode": {
    "name": "ipython",
    "version": 3
   },
   "file_extension": ".py",
   "mimetype": "text/x-python",
   "name": "python",
   "nbconvert_exporter": "python",
   "pygments_lexer": "ipython3",
   "version": "3.12.3"
  }
 },
 "nbformat": 4,
 "nbformat_minor": 2
}
