{
 "cells": [
  {
   "cell_type": "code",
   "execution_count": 9,
   "metadata": {},
   "outputs": [],
   "source": [
    "import pandas as pd\n",
    "from constants import *"
   ]
  },
  {
   "cell_type": "code",
   "execution_count": 10,
   "metadata": {},
   "outputs": [],
   "source": [
    "# # set current working directory to the current directory the program is running in\n",
    "# # This code snippet is setting the `current_dir` variable to the current working directory path concatenated with '/prisoners'. The `os.getcwd()` function returns the current working directory path, and by adding '/prisoners' to it, the code is creating a new path pointing to a directory named 'prisoners' within the current working directory.\n",
    "# import os\n",
    "# current_dir = os.getcwd() + '/prisoners'\n",
    "# print(current_dir)"
   ]
  },
  {
   "cell_type": "code",
   "execution_count": 11,
   "metadata": {},
   "outputs": [
    {
     "data": {
      "text/html": [
       "<div>\n",
       "<style scoped>\n",
       "    .dataframe tbody tr th:only-of-type {\n",
       "        vertical-align: middle;\n",
       "    }\n",
       "\n",
       "    .dataframe tbody tr th {\n",
       "        vertical-align: top;\n",
       "    }\n",
       "\n",
       "    .dataframe thead th {\n",
       "        text-align: right;\n",
       "    }\n",
       "</style>\n",
       "<table border=\"1\" class=\"dataframe\">\n",
       "  <thead>\n",
       "    <tr style=\"text-align: right;\">\n",
       "      <th></th>\n",
       "      <th>trial_id</th>\n",
       "      <th>trail_id</th>\n",
       "      <th>trial_outcome</th>\n",
       "      <th>prisoner_0</th>\n",
       "      <th>prisoner_1</th>\n",
       "      <th>prisoners</th>\n",
       "      <th>trial_outcome_label</th>\n",
       "    </tr>\n",
       "  </thead>\n",
       "  <tbody>\n",
       "    <tr>\n",
       "      <th>0</th>\n",
       "      <td>0</td>\n",
       "      <td>1</td>\n",
       "      <td>0</td>\n",
       "      <td>{'prisoner_id': 0, 'sentence': 1, 'choice': np...</td>\n",
       "      <td>{'prisoner_id': 1, 'sentence': 1, 'choice': np...</td>\n",
       "      <td>[{'prisoner_id': 0, 'sentence': 1, 'choice': n...</td>\n",
       "      <td>Silence</td>\n",
       "    </tr>\n",
       "    <tr>\n",
       "      <th>1</th>\n",
       "      <td>1</td>\n",
       "      <td>1</td>\n",
       "      <td>0</td>\n",
       "      <td>{'prisoner_id': 0, 'sentence': 1, 'choice': np...</td>\n",
       "      <td>{'prisoner_id': 1, 'sentence': 1, 'choice': np...</td>\n",
       "      <td>[{'prisoner_id': 0, 'sentence': 1, 'choice': n...</td>\n",
       "      <td>Silence</td>\n",
       "    </tr>\n",
       "    <tr>\n",
       "      <th>2</th>\n",
       "      <td>2</td>\n",
       "      <td>1</td>\n",
       "      <td>3</td>\n",
       "      <td>{'prisoner_id': 0, 'sentence': 2, 'choice': np...</td>\n",
       "      <td>{'prisoner_id': 1, 'sentence': 2, 'choice': np...</td>\n",
       "      <td>[{'prisoner_id': 0, 'sentence': 2, 'choice': n...</td>\n",
       "      <td>Both Against</td>\n",
       "    </tr>\n",
       "    <tr>\n",
       "      <th>3</th>\n",
       "      <td>3</td>\n",
       "      <td>1</td>\n",
       "      <td>3</td>\n",
       "      <td>{'prisoner_id': 0, 'sentence': 2, 'choice': np...</td>\n",
       "      <td>{'prisoner_id': 1, 'sentence': 2, 'choice': np...</td>\n",
       "      <td>[{'prisoner_id': 0, 'sentence': 2, 'choice': n...</td>\n",
       "      <td>Both Against</td>\n",
       "    </tr>\n",
       "    <tr>\n",
       "      <th>4</th>\n",
       "      <td>4</td>\n",
       "      <td>1</td>\n",
       "      <td>1</td>\n",
       "      <td>{'prisoner_id': 0, 'sentence': 0, 'choice': np...</td>\n",
       "      <td>{'prisoner_id': 1, 'sentence': 3, 'choice': np...</td>\n",
       "      <td>[{'prisoner_id': 0, 'sentence': 0, 'choice': n...</td>\n",
       "      <td>A Rat B</td>\n",
       "    </tr>\n",
       "  </tbody>\n",
       "</table>\n",
       "</div>"
      ],
      "text/plain": [
       "   trial_id  trail_id  trial_outcome  \\\n",
       "0         0         1              0   \n",
       "1         1         1              0   \n",
       "2         2         1              3   \n",
       "3         3         1              3   \n",
       "4         4         1              1   \n",
       "\n",
       "                                          prisoner_0  \\\n",
       "0  {'prisoner_id': 0, 'sentence': 1, 'choice': np...   \n",
       "1  {'prisoner_id': 0, 'sentence': 1, 'choice': np...   \n",
       "2  {'prisoner_id': 0, 'sentence': 2, 'choice': np...   \n",
       "3  {'prisoner_id': 0, 'sentence': 2, 'choice': np...   \n",
       "4  {'prisoner_id': 0, 'sentence': 0, 'choice': np...   \n",
       "\n",
       "                                          prisoner_1  \\\n",
       "0  {'prisoner_id': 1, 'sentence': 1, 'choice': np...   \n",
       "1  {'prisoner_id': 1, 'sentence': 1, 'choice': np...   \n",
       "2  {'prisoner_id': 1, 'sentence': 2, 'choice': np...   \n",
       "3  {'prisoner_id': 1, 'sentence': 2, 'choice': np...   \n",
       "4  {'prisoner_id': 1, 'sentence': 3, 'choice': np...   \n",
       "\n",
       "                                           prisoners trial_outcome_label  \n",
       "0  [{'prisoner_id': 0, 'sentence': 1, 'choice': n...             Silence  \n",
       "1  [{'prisoner_id': 0, 'sentence': 1, 'choice': n...             Silence  \n",
       "2  [{'prisoner_id': 0, 'sentence': 2, 'choice': n...        Both Against  \n",
       "3  [{'prisoner_id': 0, 'sentence': 2, 'choice': n...        Both Against  \n",
       "4  [{'prisoner_id': 0, 'sentence': 0, 'choice': n...             A Rat B  "
      ]
     },
     "execution_count": 11,
     "metadata": {},
     "output_type": "execute_result"
    }
   ],
   "source": [
    "df = pd.read_csv('trial_data.csv')\n",
    "df['trial_outcome_label']=df['trial_outcome'].replace(OUTCOME_MAP)\n",
    "df.head()"
   ]
  },
  {
   "cell_type": "code",
   "execution_count": 17,
   "metadata": {},
   "outputs": [
    {
     "data": {
      "text/plain": [
       "<Axes: ylabel='trial_outcome'>"
      ]
     },
     "execution_count": 17,
     "metadata": {},
     "output_type": "execute_result"
    },
    {
     "data": {
      "image/png": "[encoded data removed]",
      "text/plain": [
       "<Figure size 640x480 with 1 Axes>"
      ]
     },
     "metadata": {},
     "output_type": "display_data"
    }
   ],
   "source": [
    "dfg = df.groupby(['trial_outcome_label']).count()\n",
    "dfg.plot(kind='pie',  y='trial_outcome' )"
   ]
  }
 ],
 "metadata": {
  "kernelspec": {
   "display_name": "Python 3",
   "language": "python",
   "name": "python3"
  },
  "language_info": {
   "codemirror_mode": {
    "name": "ipython",
    "version": 3
   },
   "file_extension": ".py",
   "mimetype": "text/x-python",
   "name": "python",
   "nbconvert_exporter": "python",
   "pygments_lexer": "ipython3",
   "version": "3.10.4"
  }
 },
 "nbformat": 4,
 "nbformat_minor": 2
}
